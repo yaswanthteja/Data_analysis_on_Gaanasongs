{
 "cells": [
  {
   "cell_type": "code",
   "execution_count": 2,
   "id": "9251cc9e-e923-4fbe-b424-f77cb0c495fb",
   "metadata": {},
   "outputs": [],
   "source": [
    "import pandas as pd\n",
    "from tqdm import tqdm\n",
    "\n",
    "df = pd.read_csv('songs.csv')"
   ]
  },
  {
   "cell_type": "markdown",
   "id": "a82bf1a3-6147-4719-ac65-251bf612f3fb",
   "metadata": {},
   "source": []
  },
  {
   "cell_type": "code",
   "execution_count": 3,
   "id": "9121e0f4-c2b6-42fd-a1d9-68fe84043613",
   "metadata": {},
   "outputs": [
    {
     "data": {
      "text/html": [
       "<div>\n",
       "<style scoped>\n",
       "    .dataframe tbody tr th:only-of-type {\n",
       "        vertical-align: middle;\n",
       "    }\n",
       "\n",
       "    .dataframe tbody tr th {\n",
       "        vertical-align: top;\n",
       "    }\n",
       "\n",
       "    .dataframe thead th {\n",
       "        text-align: right;\n",
       "    }\n",
       "</style>\n",
       "<table border=\"1\" class=\"dataframe\">\n",
       "  <thead>\n",
       "    <tr style=\"text-align: right;\">\n",
       "      <th></th>\n",
       "      <th>name</th>\n",
       "      <th>singer</th>\n",
       "      <th>singer_id</th>\n",
       "      <th>duration</th>\n",
       "      <th>link</th>\n",
       "      <th>language</th>\n",
       "    </tr>\n",
       "  </thead>\n",
       "  <tbody>\n",
       "    <tr>\n",
       "      <th>0</th>\n",
       "      <td>Dil - E - Nadan Tujhe</td>\n",
       "      <td>Chitra Singh|Jagjit Singh</td>\n",
       "      <td>/artist/chitra-singh|/artist/jagjeet-singh-1</td>\n",
       "      <td>05:00</td>\n",
       "      <td>/dil-e-nadan-tujhe-3</td>\n",
       "      <td>Urdu</td>\n",
       "    </tr>\n",
       "    <tr>\n",
       "      <th>1</th>\n",
       "      <td>Agar Hum Kahen Aur Woh Muskara De</td>\n",
       "      <td>Chitra Singh|Jagjit Singh</td>\n",
       "      <td>/artist/chitra-singh|/artist/jagjeet-singh-1</td>\n",
       "      <td>06:26</td>\n",
       "      <td>/agar-hum-kahen-aur-woh-muskura-den</td>\n",
       "      <td>Urdu</td>\n",
       "    </tr>\n",
       "    <tr>\n",
       "      <th>2</th>\n",
       "      <td>Unke Dekhe Se</td>\n",
       "      <td>Jagjit Singh</td>\n",
       "      <td>/artist/jagjeet-singh-1</td>\n",
       "      <td>03:41</td>\n",
       "      <td>/unke-dekhe-se</td>\n",
       "      <td>Urdu</td>\n",
       "    </tr>\n",
       "    <tr>\n",
       "      <th>3</th>\n",
       "      <td>Yeh Na Thi Hamari Qismat - Chitra Singh</td>\n",
       "      <td>Chitra Singh</td>\n",
       "      <td>/artist/chitra-singh</td>\n",
       "      <td>04:26</td>\n",
       "      <td>/yeh-na-thi-hamari-qismat-2</td>\n",
       "      <td>Urdu</td>\n",
       "    </tr>\n",
       "    <tr>\n",
       "      <th>4</th>\n",
       "      <td>Hazaron Khwahishen Aisi</td>\n",
       "      <td>Jagjit Singh</td>\n",
       "      <td>/artist/jagjeet-singh-1</td>\n",
       "      <td>05:39</td>\n",
       "      <td>/hazaron-khwahishen-aisi-1</td>\n",
       "      <td>Urdu</td>\n",
       "    </tr>\n",
       "  </tbody>\n",
       "</table>\n",
       "</div>"
      ],
      "text/plain": [
       "                                      name                     singer  \\\n",
       "0                    Dil - E - Nadan Tujhe  Chitra Singh|Jagjit Singh   \n",
       "1        Agar Hum Kahen Aur Woh Muskara De  Chitra Singh|Jagjit Singh   \n",
       "2                            Unke Dekhe Se               Jagjit Singh   \n",
       "3  Yeh Na Thi Hamari Qismat - Chitra Singh               Chitra Singh   \n",
       "4                  Hazaron Khwahishen Aisi               Jagjit Singh   \n",
       "\n",
       "                                      singer_id duration  \\\n",
       "0  /artist/chitra-singh|/artist/jagjeet-singh-1    05:00   \n",
       "1  /artist/chitra-singh|/artist/jagjeet-singh-1    06:26   \n",
       "2                       /artist/jagjeet-singh-1    03:41   \n",
       "3                          /artist/chitra-singh    04:26   \n",
       "4                       /artist/jagjeet-singh-1    05:39   \n",
       "\n",
       "                                  link language  \n",
       "0                 /dil-e-nadan-tujhe-3     Urdu  \n",
       "1  /agar-hum-kahen-aur-woh-muskura-den     Urdu  \n",
       "2                       /unke-dekhe-se     Urdu  \n",
       "3          /yeh-na-thi-hamari-qismat-2     Urdu  \n",
       "4           /hazaron-khwahishen-aisi-1     Urdu  "
      ]
     },
     "execution_count": 3,
     "metadata": {},
     "output_type": "execute_result"
    }
   ],
   "source": [
    "df.head()"
   ]
  },
  {
   "cell_type": "markdown",
   "id": "60e9526e-3cd3-4557-974c-c4bf91e5acbd",
   "metadata": {},
   "source": [
    "\n",
    "# 1.  Checking Null Values\n",
    "\n"
   ]
  },
  {
   "cell_type": "code",
   "execution_count": 5,
   "id": "683771dd-c034-4ab8-807f-c16334e70cf0",
   "metadata": {},
   "outputs": [
    {
     "data": {
      "text/plain": [
       "name         0\n",
       "singer       0\n",
       "singer_id    0\n",
       "duration     0\n",
       "link         0\n",
       "language     0\n",
       "dtype: int64"
      ]
     },
     "execution_count": 5,
     "metadata": {},
     "output_type": "execute_result"
    }
   ],
   "source": [
    "df.isnull().sum()"
   ]
  },
  {
   "cell_type": "markdown",
   "id": "3acf6831-1975-432b-98d4-70511089647f",
   "metadata": {},
   "source": [
    "# 2. Data Preprocess\n",
    "\n",
    "Dealing with Duration"
   ]
  },
  {
   "cell_type": "code",
   "execution_count": 6,
   "id": "06def11f-9a94-4e9f-b601-00191aa4df7e",
   "metadata": {},
   "outputs": [
    {
     "data": {
      "text/html": [
       "<div>\n",
       "<style scoped>\n",
       "    .dataframe tbody tr th:only-of-type {\n",
       "        vertical-align: middle;\n",
       "    }\n",
       "\n",
       "    .dataframe tbody tr th {\n",
       "        vertical-align: top;\n",
       "    }\n",
       "\n",
       "    .dataframe thead th {\n",
       "        text-align: right;\n",
       "    }\n",
       "</style>\n",
       "<table border=\"1\" class=\"dataframe\">\n",
       "  <thead>\n",
       "    <tr style=\"text-align: right;\">\n",
       "      <th></th>\n",
       "      <th>name</th>\n",
       "      <th>singer</th>\n",
       "      <th>singer_id</th>\n",
       "      <th>duration</th>\n",
       "      <th>link</th>\n",
       "      <th>language</th>\n",
       "    </tr>\n",
       "  </thead>\n",
       "  <tbody>\n",
       "    <tr>\n",
       "      <th>0</th>\n",
       "      <td>Dil - E - Nadan Tujhe</td>\n",
       "      <td>Chitra Singh|Jagjit Singh</td>\n",
       "      <td>/artist/chitra-singh|/artist/jagjeet-singh-1</td>\n",
       "      <td>300</td>\n",
       "      <td>/dil-e-nadan-tujhe-3</td>\n",
       "      <td>Urdu</td>\n",
       "    </tr>\n",
       "    <tr>\n",
       "      <th>1</th>\n",
       "      <td>Agar Hum Kahen Aur Woh Muskara De</td>\n",
       "      <td>Chitra Singh|Jagjit Singh</td>\n",
       "      <td>/artist/chitra-singh|/artist/jagjeet-singh-1</td>\n",
       "      <td>386</td>\n",
       "      <td>/agar-hum-kahen-aur-woh-muskura-den</td>\n",
       "      <td>Urdu</td>\n",
       "    </tr>\n",
       "    <tr>\n",
       "      <th>2</th>\n",
       "      <td>Unke Dekhe Se</td>\n",
       "      <td>Jagjit Singh</td>\n",
       "      <td>/artist/jagjeet-singh-1</td>\n",
       "      <td>221</td>\n",
       "      <td>/unke-dekhe-se</td>\n",
       "      <td>Urdu</td>\n",
       "    </tr>\n",
       "    <tr>\n",
       "      <th>3</th>\n",
       "      <td>Yeh Na Thi Hamari Qismat - Chitra Singh</td>\n",
       "      <td>Chitra Singh</td>\n",
       "      <td>/artist/chitra-singh</td>\n",
       "      <td>266</td>\n",
       "      <td>/yeh-na-thi-hamari-qismat-2</td>\n",
       "      <td>Urdu</td>\n",
       "    </tr>\n",
       "    <tr>\n",
       "      <th>4</th>\n",
       "      <td>Hazaron Khwahishen Aisi</td>\n",
       "      <td>Jagjit Singh</td>\n",
       "      <td>/artist/jagjeet-singh-1</td>\n",
       "      <td>339</td>\n",
       "      <td>/hazaron-khwahishen-aisi-1</td>\n",
       "      <td>Urdu</td>\n",
       "    </tr>\n",
       "  </tbody>\n",
       "</table>\n",
       "</div>"
      ],
      "text/plain": [
       "                                      name                     singer  \\\n",
       "0                    Dil - E - Nadan Tujhe  Chitra Singh|Jagjit Singh   \n",
       "1        Agar Hum Kahen Aur Woh Muskara De  Chitra Singh|Jagjit Singh   \n",
       "2                            Unke Dekhe Se               Jagjit Singh   \n",
       "3  Yeh Na Thi Hamari Qismat - Chitra Singh               Chitra Singh   \n",
       "4                  Hazaron Khwahishen Aisi               Jagjit Singh   \n",
       "\n",
       "                                      singer_id  duration  \\\n",
       "0  /artist/chitra-singh|/artist/jagjeet-singh-1       300   \n",
       "1  /artist/chitra-singh|/artist/jagjeet-singh-1       386   \n",
       "2                       /artist/jagjeet-singh-1       221   \n",
       "3                          /artist/chitra-singh       266   \n",
       "4                       /artist/jagjeet-singh-1       339   \n",
       "\n",
       "                                  link language  \n",
       "0                 /dil-e-nadan-tujhe-3     Urdu  \n",
       "1  /agar-hum-kahen-aur-woh-muskura-den     Urdu  \n",
       "2                       /unke-dekhe-se     Urdu  \n",
       "3          /yeh-na-thi-hamari-qismat-2     Urdu  \n",
       "4           /hazaron-khwahishen-aisi-1     Urdu  "
      ]
     },
     "execution_count": 6,
     "metadata": {},
     "output_type": "execute_result"
    }
   ],
   "source": [
    "duration_lst = []\n",
    "\n",
    "for duration in df['duration']:\n",
    "\n",
    "  m = int(duration.split(':')[0])\n",
    "  s = int(duration.split(':')[1])\n",
    "  sec = (m*60) + s\n",
    "\n",
    "  duration_lst.append(sec)\n",
    "\n",
    "df['duration'] = duration_lst\n",
    "\n",
    "df.head()"
   ]
  },
  {
   "cell_type": "markdown",
   "id": "23bca063-3689-4a59-9dee-804f7fbc6e43",
   "metadata": {},
   "source": [
    "# 3. Data Analysis\n",
    "\n",
    " Average Duration of a song thorughout the dataset"
   ]
  },
  {
   "cell_type": "code",
   "execution_count": 7,
   "id": "679f7e0e-682f-4b32-ab57-6b6d25de5bb2",
   "metadata": {},
   "outputs": [
    {
     "name": "stdout",
     "output_type": "stream",
     "text": [
      "Average duration of a song is 295 seconds\n"
     ]
    }
   ],
   "source": [
    "print(\"Average duration of a song is\", int(df['duration'].sum() / len(df['duration'])), 'seconds')"
   ]
  },
  {
   "cell_type": "markdown",
   "id": "d5d2bc63-4dd4-46c5-8839-e0bdc2260f3e",
   "metadata": {},
   "source": [
    " ### How many laguages of songs are there is the dataset?"
   ]
  },
  {
   "cell_type": "code",
   "execution_count": 8,
   "id": "940696c0-32c1-4f7b-b60c-a0b73ded44ea",
   "metadata": {},
   "outputs": [
    {
     "data": {
      "text/plain": [
       "16"
      ]
     },
     "execution_count": 8,
     "metadata": {},
     "output_type": "execute_result"
    }
   ],
   "source": [
    "len(set(df['language']))"
   ]
  },
  {
   "cell_type": "markdown",
   "id": "43a4280b-5dd7-45ea-bbdc-05b53b375f1b",
   "metadata": {},
   "source": [
    "### What are all the languages in the dataset?"
   ]
  },
  {
   "cell_type": "code",
   "execution_count": 10,
   "id": "8180a713-ac39-4033-811b-a1d4099088dd",
   "metadata": {},
   "outputs": [
    {
     "name": "stdout",
     "output_type": "stream",
     "text": [
      "Tamil\n",
      "Bhojpuri\n",
      "Malayalam\n",
      "Urdu\n",
      "Gujarati\n",
      "Old\n",
      "Kannada\n",
      "Odia\n",
      "Haryanvi\n",
      "Bengali\n",
      "Telugu\n",
      "Punjabi\n",
      "Hindi\n",
      "Marathi\n",
      "Assamese\n",
      "Rajasthani\n"
     ]
    }
   ],
   "source": [
    "for i in set(df['language']):\n",
    "  print(i)"
   ]
  },
  {
   "cell_type": "markdown",
   "id": "64fec1b7-1262-46f9-9bf8-04c18ca4a860",
   "metadata": {},
   "source": [
    "### How many Telugu songs are there?¶"
   ]
  },
  {
   "cell_type": "code",
   "execution_count": 11,
   "id": "2904d004-f7e9-4ea1-8e4f-e1c489aba570",
   "metadata": {},
   "outputs": [
    {
     "name": "stdout",
     "output_type": "stream",
     "text": [
      "There are 4996 songs in Telugu\n"
     ]
    }
   ],
   "source": [
    "c = 0\n",
    "\n",
    "for i in df['language']:\n",
    "  if (i == 'Telugu'):\n",
    "    c += 1\n",
    "\n",
    "print('There are',c,'songs in Telugu')"
   ]
  },
  {
   "cell_type": "code",
   "execution_count": 12,
   "id": "e7c0d911-8a46-4c19-98e9-da123a83e607",
   "metadata": {},
   "outputs": [
    {
     "data": {
      "text/plain": [
       "4996"
      ]
     },
     "execution_count": 12,
     "metadata": {},
     "output_type": "execute_result"
    }
   ],
   "source": [
    "len(df[df['language'] == 'Telugu'])"
   ]
  },
  {
   "cell_type": "markdown",
   "id": "d7e93449-3b15-4fde-abfb-8b99a7df1927",
   "metadata": {},
   "source": [
    "### Number of songs in each Language?¶"
   ]
  },
  {
   "cell_type": "code",
   "execution_count": 13,
   "id": "8ecedaea-08ae-4da0-ac04-7d6a305ce819",
   "metadata": {},
   "outputs": [
    {
     "name": "stdout",
     "output_type": "stream",
     "text": [
      "Urdu 3116\n",
      "Gujarati 2115\n",
      "Tamil 4677\n",
      "Kannada 3559\n",
      "Rajasthani 541\n",
      "Haryanvi 228\n",
      "Punjabi 3818\n",
      "Hindi 4993\n",
      "Old 4993\n",
      "Malayalam 479\n",
      "Marathi 4699\n",
      "Telugu 4996\n",
      "Odia 940\n",
      "Bhojpuri 519\n",
      "Assamese 724\n",
      "Bengali 958\n"
     ]
    }
   ],
   "source": [
    "for lang in df['language'].unique():\n",
    "  print(lang, len(df[df['language'] == lang]))"
   ]
  },
  {
   "cell_type": "markdown",
   "id": "a2e0f27b-18af-481b-b663-7ae8020dd7e4",
   "metadata": {},
   "source": [
    " ### Average Duration of song in each language"
   ]
  },
  {
   "cell_type": "code",
   "execution_count": 14,
   "id": "cf1b157c-a632-4017-9b8f-9285dc50c10c",
   "metadata": {},
   "outputs": [
    {
     "name": "stdout",
     "output_type": "stream",
     "text": [
      "Urdu 407\n",
      "Gujarati 271\n",
      "Tamil 270\n",
      "Kannada 250\n",
      "Rajasthani 291\n",
      "Haryanvi 320\n",
      "Punjabi 324\n",
      "Hindi 307\n",
      "Old 307\n",
      "Malayalam 242\n",
      "Marathi 281\n",
      "Telugu 279\n",
      "Odia 257\n",
      "Bhojpuri 357\n",
      "Assamese 228\n",
      "Bengali 255\n"
     ]
    }
   ],
   "source": [
    "for lang in df['language'].unique():\n",
    "  print(lang, int(df[df['language'] == lang]['duration'].mean()))"
   ]
  },
  {
   "cell_type": "markdown",
   "id": "93366b3c-3172-45b7-a65f-4f374e2734fe",
   "metadata": {},
   "source": [
    "### How many unique singers are there in the dataset?"
   ]
  },
  {
   "cell_type": "code",
   "execution_count": 15,
   "id": "fdedc2a5-c202-486b-ab7b-4d5241f4dfbf",
   "metadata": {},
   "outputs": [
    {
     "name": "stdout",
     "output_type": "stream",
     "text": [
      "Total Singers :  3940\n"
     ]
    }
   ],
   "source": [
    "all_singer = []\n",
    "for singers in df['singer']:\n",
    "  all_singer += singers.split('|')\n",
    "\n",
    "print('Total Singers : ', len(set(all_singer)))"
   ]
  },
  {
   "cell_type": "markdown",
   "id": "ef27bdd4-f5f0-4284-ab24-4f2d085d533b",
   "metadata": {},
   "source": [
    " ### Who has the most number of songs played?"
   ]
  },
  {
   "cell_type": "code",
   "execution_count": 16,
   "id": "4c6a156d-d40c-4672-8094-f7e64ae91eb6",
   "metadata": {},
   "outputs": [
    {
     "name": "stderr",
     "output_type": "stream",
     "text": [
      "100%|█████████████████████████████████████████████████████████████████████████████| 3940/3940 [00:24<00:00, 161.34it/s]\n"
     ]
    }
   ],
   "source": [
    "data = []\n",
    "\n",
    "unique_singers = list(set(all_singer))\n",
    "\n",
    "for i in tqdm(unique_singers):\n",
    "\n",
    "  c = 0\n",
    "  for singers_ in df['singer']:\n",
    "    if (i in singers_):\n",
    "      c += 1\n",
    "\n",
    "  data.append([i,c])"
   ]
  },
  {
   "cell_type": "code",
   "execution_count": 22,
   "id": "f9b47f4c-4828-4e85-8ac3-4aa80bd8977d",
   "metadata": {},
   "outputs": [
    {
     "data": {
      "text/html": [
       "<div>\n",
       "<style scoped>\n",
       "    .dataframe tbody tr th:only-of-type {\n",
       "        vertical-align: middle;\n",
       "    }\n",
       "\n",
       "    .dataframe tbody tr th {\n",
       "        vertical-align: top;\n",
       "    }\n",
       "\n",
       "    .dataframe thead th {\n",
       "        text-align: right;\n",
       "    }\n",
       "</style>\n",
       "<table border=\"1\" class=\"dataframe\">\n",
       "  <thead>\n",
       "    <tr style=\"text-align: right;\">\n",
       "      <th></th>\n",
       "      <th>singer</th>\n",
       "      <th>songs</th>\n",
       "    </tr>\n",
       "  </thead>\n",
       "  <tbody>\n",
       "    <tr>\n",
       "      <th>1394</th>\n",
       "      <td>S. P. Balasubrahmanyam</td>\n",
       "      <td>3659</td>\n",
       "    </tr>\n",
       "    <tr>\n",
       "      <th>1197</th>\n",
       "      <td>Kumar</td>\n",
       "      <td>3270</td>\n",
       "    </tr>\n",
       "    <tr>\n",
       "      <th>3707</th>\n",
       "      <td>Susheel</td>\n",
       "      <td>3216</td>\n",
       "    </tr>\n",
       "    <tr>\n",
       "      <th>1763</th>\n",
       "      <td>Susheela</td>\n",
       "      <td>3215</td>\n",
       "    </tr>\n",
       "    <tr>\n",
       "      <th>29</th>\n",
       "      <td>P. Susheela</td>\n",
       "      <td>3213</td>\n",
       "    </tr>\n",
       "  </tbody>\n",
       "</table>\n",
       "</div>"
      ],
      "text/plain": [
       "                      singer  songs\n",
       "1394  S. P. Balasubrahmanyam   3659\n",
       "1197                   Kumar   3270\n",
       "3707                 Susheel   3216\n",
       "1763                Susheela   3215\n",
       "29               P. Susheela   3213"
      ]
     },
     "execution_count": 22,
     "metadata": {},
     "output_type": "execute_result"
    }
   ],
   "source": [
    "songs = pd.DataFrame(data, columns = ['singer','songs'])\n",
    "\n",
    "songs.head()\n",
    "\n",
    "songs.sort_values(by = 'songs', ascending = False).head()"
   ]
  },
  {
   "cell_type": "markdown",
   "id": "2ab27328-ff52-47fd-ac00-d875c5fb670f",
   "metadata": {},
   "source": [
    "### who played most number of songs in each language?"
   ]
  },
  {
   "cell_type": "code",
   "execution_count": 19,
   "id": "37bd17b4-0771-45c6-9b6c-512cc647afae",
   "metadata": {},
   "outputs": [
    {
     "name": "stdout",
     "output_type": "stream",
     "text": [
      "Urdu 3116 385\n",
      "Gujarati 2115 303\n",
      "Tamil 4677 510\n",
      "Kannada 3559 379\n",
      "Rajasthani 541 218\n",
      "Haryanvi 228 76\n",
      "Punjabi 3818 636\n",
      "Hindi 4993 515\n",
      "Old 4993 515\n",
      "Malayalam 479 72\n",
      "Marathi 4699 569\n",
      "Telugu 4996 369\n",
      "Odia 940 243\n",
      "Bhojpuri 519 109\n",
      "Assamese 724 228\n",
      "Bengali 958 192\n"
     ]
    }
   ],
   "source": [
    "for lang in df['language'].unique():\n",
    "\n",
    "  df_ = df[df['language'] == lang]\n",
    "  \n",
    "  all_singer = []\n",
    "  for singers in df_['singer']:\n",
    "    all_singer += singers.split('|')\n",
    "\n",
    "  print(lang, len(df_),len(set(all_singer)))"
   ]
  },
  {
   "cell_type": "code",
   "execution_count": null,
   "id": "3b78bf5b-0a2f-4a7d-b141-48509c91be31",
   "metadata": {},
   "outputs": [],
   "source": []
  }
 ],
 "metadata": {
  "kernelspec": {
   "display_name": "Python 3 (ipykernel)",
   "language": "python",
   "name": "python3"
  },
  "language_info": {
   "codemirror_mode": {
    "name": "ipython",
    "version": 3
   },
   "file_extension": ".py",
   "mimetype": "text/x-python",
   "name": "python",
   "nbconvert_exporter": "python",
   "pygments_lexer": "ipython3",
   "version": "3.7.2"
  }
 },
 "nbformat": 4,
 "nbformat_minor": 5
}
